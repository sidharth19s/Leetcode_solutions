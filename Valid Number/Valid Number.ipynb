{
 "cells": [
  {
   "cell_type": "code",
   "execution_count": null,
   "metadata": {},
   "outputs": [],
   "source": [
    "def valid_num(num_str):\n",
    "    pattern1 = r'[-+]?[0-9]*[\\.]?[0-9]+'\n",
    "    pattern2 = r'[-+]?[0-9]+[\\.]?[0-9]*'\n",
    "    pattern3 = r'[-+]?[0-9]+'\n",
    "    pattern4 = r'[eE]{1}[-+]?[0-9]+'\n",
    "    try:\n",
    "        a = len(re.match(pattern1, num_str).group())\n",
    "    except:\n",
    "        a= 0\n",
    "    try:\n",
    "        b = len(re.match(pattern2, num_str).group())\n",
    "    except:\n",
    "        b= 0\n",
    "    try:\n",
    "        c = len(re.match(pattern3, num_str).group())\n",
    "    except:\n",
    "        c= 0\n",
    "    try:\n",
    "        d = len(re.search(pattern4, num_str).group())\n",
    "    except:\n",
    "        d= 0\n",
    "    if max(a,b,c) > 0 :    \n",
    "        tot = max(a,b,c) + d\n",
    "        return tot == len(num_str)\n",
    "    return False"
   ]
  }
 ],
 "metadata": {
  "kernelspec": {
   "display_name": "Python 3",
   "language": "python",
   "name": "python3"
  },
  "language_info": {
   "codemirror_mode": {
    "name": "ipython",
    "version": 3
   },
   "file_extension": ".py",
   "mimetype": "text/x-python",
   "name": "python",
   "nbconvert_exporter": "python",
   "pygments_lexer": "ipython3",
   "version": "3.8.5"
  }
 },
 "nbformat": 4,
 "nbformat_minor": 4
}
