{
 "cells": [
  {
   "cell_type": "code",
   "execution_count": null,
   "metadata": {},
   "outputs": [],
   "source": [
    "class Solution:\n",
    "    def findDuplicate(self, paths: List[str]) -> List[List[str]]:\n",
    "        import re\n",
    "        file_details = []\n",
    "        for i in range(len(paths)):\n",
    "          file_details.append(paths[i].split())\n",
    "        file_details= [i[0] + '/' + x for i in file_details for x in i if x!=i[0]]\n",
    "        file_names= [re.sub(r'\\(.*\\)','',i) for i in file_details]\n",
    "        content = [re.search(r'\\(.*\\)',x).group() for x in file_details]\n",
    "        from collections import defaultdict\n",
    "        content_dict = defaultdict(list)\n",
    "        [content_dict[val].append(idx) for idx, val in enumerate(content)]\n",
    "        ans=[]\n",
    "        for i in content_dict.values():\n",
    "          ans.append(i)\n",
    "        ans = [[file_names[x] for x in i] for i in ans]\n",
    "        ans= [i for i in ans if len(i)>1]\n",
    "        return ans"
   ]
  }
 ],
 "metadata": {
  "kernelspec": {
   "display_name": "Python 3",
   "language": "python",
   "name": "python3"
  },
  "language_info": {
   "codemirror_mode": {
    "name": "ipython",
    "version": 3
   },
   "file_extension": ".py",
   "mimetype": "text/x-python",
   "name": "python",
   "nbconvert_exporter": "python",
   "pygments_lexer": "ipython3",
   "version": "3.8.5"
  }
 },
 "nbformat": 4,
 "nbformat_minor": 4
}
